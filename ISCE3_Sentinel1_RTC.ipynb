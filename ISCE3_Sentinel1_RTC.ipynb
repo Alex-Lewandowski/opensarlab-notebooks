{
 "cells": [
  {
   "cell_type": "markdown",
   "id": "e751a1ed-0b6c-4624-8527-0db0b0e2356b",
   "metadata": {},
   "source": [
    "# ISCE3 Sentinel-1 RTC\n",
    "\n",
    "Alex Lewandowski; Alaska Satellite Facility"
   ]
  },
  {
   "cell_type": "code",
   "execution_count": null,
   "id": "81475036-b969-4656-a6cb-28c544dfcdcd",
   "metadata": {},
   "outputs": [],
   "source": [
    "import asf_search\n",
    "import boto3\n",
    "from botocore import UNSIGNED\n",
    "from botocore.config import Config\n",
    "from bs4 import BeautifulSoup\n",
    "from datetime import datetime\n",
    "import getpass\n",
    "import numpy as np\n",
    "from osgeo import gdal\n",
    "from pathlib import Path\n",
    "import re\n",
    "import requests\n",
    "import rtc\n",
    "import shutil\n",
    "from urllib.parse import urljoin\n",
    "import yaml\n",
    "from zipfile import ZipFile"
   ]
  },
  {
   "cell_type": "markdown",
   "id": "3bd30136-e628-4e19-9c7f-d1d08cbcde5f",
   "metadata": {},
   "source": [
    "## Authenticate with asf_search and download and extract a Sentinel-1 scene"
   ]
  },
  {
   "cell_type": "code",
   "execution_count": null,
   "id": "838b532d-e242-471f-b354-d86631da8998",
   "metadata": {},
   "outputs": [],
   "source": [
    "username = input('Username:')\n",
    "password = getpass.getpass('Password:')\n",
    "\n",
    "try:\n",
    "    user_pass_session = asf_search.ASFSession().auth_with_creds(username, password)\n",
    "except asf_search.ASFAuthenticationError as e:\n",
    "    print(f'Auth failed: {e}')\n",
    "else:\n",
    "    print('Success!')"
   ]
  },
  {
   "cell_type": "code",
   "execution_count": null,
   "id": "2a1cdd8a-6acd-463d-a4bd-f9b1eb95485b",
   "metadata": {},
   "outputs": [],
   "source": [
    "# S1A_IW_SLC__1SDV_20230108T135223_20230108T135251_046693_0598D3_A89F +-\n",
    "# S1A_IW_SLC__1SDV_20230109T012613_20230109T012640_046700_05990D_10DF ++\n",
    "# S1A_IW_SLC__1SDV_20230112T235553_20230112T235623_046757_059B03_FABC --\n",
    "# S1A_IW_SLC__1SDV_20230108T213922_20230108T213949_046698_0598FF_D885 -+\n",
    "\n",
    "scene = input(\"Enter a Sentinel-1 Scene name\")"
   ]
  },
  {
   "cell_type": "code",
   "execution_count": null,
   "id": "a231923b-3d27-4eb0-8714-7db8e2c071bf",
   "metadata": {},
   "outputs": [],
   "source": [
    "# TODO create dir named for s1-scene and adjust all upstream paths to download data to and save output there \n",
    "\n",
    "data_dir_path = Path.cwd()/scene\n",
    "data_dir_path.mkdir(exist_ok=True)"
   ]
  },
  {
   "cell_type": "code",
   "execution_count": null,
   "id": "85a5a4e0-8548-421a-8587-414d869c43b1",
   "metadata": {},
   "outputs": [],
   "source": [
    "zip_path = data_dir_path/f\"{scene}.zip\"\n",
    "\n",
    "if not zip_path.exists():\n",
    "    results = asf_search.granule_search(scene)\n",
    "    results[0].download(data_dir_path, session=user_pass_session)\n",
    "\n",
    "with ZipFile(zip_path, 'r') as z:\n",
    "    z.extractall(data_dir_path)"
   ]
  },
  {
   "cell_type": "markdown",
   "id": "1a10d63a-4380-4fc5-a92c-c15ad18123cc",
   "metadata": {},
   "source": [
    "## Download the Sentinel-1 orbit file"
   ]
  },
  {
   "cell_type": "code",
   "execution_count": null,
   "id": "d1add899-60d4-47b5-86d8-5ea8185decde",
   "metadata": {},
   "outputs": [],
   "source": [
    "def datetime_in_orbitfile_range(datetime_str, orbitfile_name):\n",
    "    orbit_date_regex = \"(?<=\\w[0-9]{7}T[0-9]{6}_V)\\w[0-9]{7}T[0-9]{6}_\\w[0-9]{7}T[0-9]{6}(?=\\.EOF)\"\n",
    "    orbit_dates = re.search(orbit_date_regex, orbitfile_name)\n",
    "    if orbit_dates:\n",
    "        orbit_dates = orbit_dates.group(0).split('_')\n",
    "    else:\n",
    "        return False\n",
    "    return orbit_dates[0] < datetime_str < orbit_dates[1]\n",
    "\n",
    "def write_dot_netrc(path, username, password):\n",
    "    with open(netrc_path, 'w+') as netrc:\n",
    "        netrc.write(f'machine urs.earthdata.nasa.gov login {username} password {password}')"
   ]
  },
  {
   "cell_type": "code",
   "execution_count": null,
   "id": "6f745248-5ffb-46ab-813f-d050f0742b85",
   "metadata": {},
   "outputs": [],
   "source": [
    "if scene[:3] == \"S1A\":\n",
    "    platform = \"S1A\"\n",
    "elif scene[:3] == \"S1B\":\n",
    "    platform = \"S1B\"\n",
    "else:\n",
    "    raise Exception(\"Platform not found in scene name\")\n",
    "\n",
    "s1_date_regex = \"\\w[0-9]{7}T[0-9]{6}\"\n",
    "datetime_str = re.search(s1_date_regex, scene).group(0)"
   ]
  },
  {
   "cell_type": "code",
   "execution_count": null,
   "id": "b2b3846c-c9ab-464e-8dde-c2b7081bfb04",
   "metadata": {
    "tags": []
   },
   "outputs": [],
   "source": [
    "orbit_index_url = \"https://s1qc.asf.alaska.edu/aux_poeorb/\"\n",
    "soup = BeautifulSoup(requests.get(orbit_index_url).content, \"html.parser\")\n",
    "\n",
    "orbitfile_links = list(soup.select('a'))\n",
    "orbitfile_link = [l for l in orbitfile_links if platform in str(l) and datetime_in_orbitfile_range(datetime_str, str(l))][0]\n",
    "orbitfile_name = orbitfile_link.attrs.get(\"href\")\n",
    "\n",
    "href = urljoin(orbit_index_url, orbitfile_name)"
   ]
  },
  {
   "cell_type": "code",
   "execution_count": null,
   "id": "0996c502-dcf5-455b-bcb4-f1540b059657",
   "metadata": {},
   "outputs": [],
   "source": [
    "netrc_path = Path('/home/jovyan/.netrc')\n",
    "write_dot_netrc(netrc_path, username, password)\n",
    "\n",
    "orbitfile_path = data_dir_path/orbitfile_name\n",
    "r = requests.get(href)\n",
    "with open(orbitfile_path, 'wb') as f:\n",
    "    f.write(r.content)\n",
    "\n",
    "netrc_path.unlink()"
   ]
  },
  {
   "cell_type": "markdown",
   "id": "7b00304b-cecc-4b3f-8e94-eb6d29c57f22",
   "metadata": {},
   "source": [
    "## Download the COP30 DEM"
   ]
  },
  {
   "cell_type": "code",
   "execution_count": null,
   "id": "982231ce-b7cc-41d6-96e3-0187a8ec7b3a",
   "metadata": {},
   "outputs": [],
   "source": [
    "# TODO access bounds in manifest.safe without extracting entire zip, or maybe with asf_search?\n",
    "# TODO: test for positive and negative latitudes and longitudes\n",
    "safe_path = data_dir_path/f\"{scene}.SAFE\"\n",
    "with open(safe_path/\"manifest.safe\", 'r') as f:\n",
    "    data = f.read()\n",
    "bs_data = BeautifulSoup(data, \"xml\")\n",
    "extents = bs_data.find_all('gml:coordinates')\n",
    "extents = extents[0].string.split(' ')\n",
    "extents = [[int(np.floor(float(x.split(',')[0]))), int(np.floor(float(x.split(',')[1])))] for x in extents]\n",
    "\n",
    "lats = list(set([c[0] for c in extents]))\n",
    "lats = list(range(min(lats), max(lats)+1))    \n",
    "longs = list(set([c[1] for c in extents]))\n",
    "longs = list(range(min(longs), max(longs)+1))"
   ]
  },
  {
   "cell_type": "code",
   "execution_count": null,
   "id": "be586fe1-0388-4038-992d-cb61f400cad8",
   "metadata": {},
   "outputs": [],
   "source": [
    "dem_s3_paths = []\n",
    "\n",
    "for lat in lats:\n",
    "    for long in longs:\n",
    "        if lat >= 0:\n",
    "            lat_dir = \"N\"\n",
    "        else:\n",
    "            lat_dir = \"S\"\n",
    "        if long >= 0:\n",
    "            long_dir = \"E\"\n",
    "        else:\n",
    "            long_dir = \"W\"\n",
    "        \n",
    "        dem_s3_paths.append(f\"Copernicus_DSM_COG_10_{lat_dir}{int(abs(lat)):02d}_00_{long_dir}{int(abs(long)):03d}_00_DEM/Copernicus_DSM_COG_10_{lat_dir}{int(abs(lat)):02d}_00_{long_dir}{int(abs(long)):03d}_00_DEM.tif\")\n",
    "dem_s3_paths"
   ]
  },
  {
   "cell_type": "code",
   "execution_count": null,
   "id": "fa333ad1-178b-46c7-92ed-0fa5f7dc81a7",
   "metadata": {},
   "outputs": [],
   "source": [
    "dem_dir_path = data_dir_path/\"dems\"\n",
    "dem_dir_path.mkdir(exist_ok=True)\n",
    "\n",
    "s3 = boto3.resource('s3', config=Config(signature_version=UNSIGNED))\n",
    "\n",
    "bucket_name = \"copernicus-dem-30m\"\n",
    "bucket = s3.Bucket(bucket_name)\n",
    "\n",
    "for s3_path in dem_s3_paths:\n",
    "    bucket.download_file(s3_path, dem_dir_path/s3_path.split('/')[1]) "
   ]
  },
  {
   "cell_type": "code",
   "execution_count": null,
   "id": "f3d60770-5daf-4840-b985-edbdf051223a",
   "metadata": {},
   "outputs": [],
   "source": [
    "dem_paths = ' '.join([str(p) for p in (dem_dir_path.glob(\"*DEM.tif\"))])\n",
    "dem_paths"
   ]
  },
  {
   "cell_type": "code",
   "execution_count": null,
   "id": "75ea27d2-1457-4774-a119-b656d56b1f84",
   "metadata": {},
   "outputs": [],
   "source": [
    "merged_dem_path = dem_dir_path/\"merged_dem.tif\"\n",
    "!gdal_merge.py -n 0.0 -o $merged_dem_path $dem_paths"
   ]
  },
  {
   "cell_type": "markdown",
   "id": "1aa20726-8d14-44a5-b7a2-fddaee048ed3",
   "metadata": {},
   "source": [
    "## Copy and edit a template rtc_s1.yaml \n",
    "\n",
    "This is the config file we will use to define parameters for RTC processing"
   ]
  },
  {
   "cell_type": "code",
   "execution_count": null,
   "id": "e44ba378-6f18-4e6a-961e-8ccd74bd3224",
   "metadata": {},
   "outputs": [],
   "source": [
    "rtc_config_template_path = Path(rtc.__file__).parent/\"defaults/rtc_s1.yaml\"\n",
    "rtc_config_path = data_dir_path/\"rtc_s1.yaml\"\n",
    "shutil.copyfile(rtc_config_template_path, rtc_config_path)"
   ]
  },
  {
   "cell_type": "code",
   "execution_count": null,
   "id": "3062d2ad-7770-4c9e-ac5a-553973ac75ab",
   "metadata": {},
   "outputs": [],
   "source": [
    "with open(rtc_config_path, 'r') as f:\n",
    "    config = yaml.safe_load(f)"
   ]
  },
  {
   "cell_type": "code",
   "execution_count": null,
   "id": "3c55b733-97ae-4cc9-a31b-97508fe3b70a",
   "metadata": {},
   "outputs": [],
   "source": [
    "config"
   ]
  },
  {
   "cell_type": "code",
   "execution_count": null,
   "id": "081e5011-9129-457b-9fe5-85e0005b7544",
   "metadata": {},
   "outputs": [],
   "source": [
    "config['runconfig']['groups']['input_file_group']['safe_file_path'] = [str(data_dir_path/f\"{scene}.zip\")]\n",
    "config['runconfig']['groups']['input_file_group']['orbit_file_path'] = [str(orbitfile_path)]\n",
    "config['runconfig']['groups']['dynamic_ancillary_file_group']['dem_file'] = str(merged_dem_path)\n",
    "config['runconfig']['groups']['dynamic_ancillary_file_group']['dem_description'] = f\"Merged COP30 DEMS from s3://copernicus-dem-30m: {' '.join([p.split('/')[1] for p in dem_s3_paths])}\"\n",
    "config['runconfig']['groups']['product_group']['output_dir'] = str(data_dir_path/'ISCE3_RTC')\n",
    "config['runconfig']['groups']['product_group']['save_mosaics'] = True\n",
    "config['runconfig']['groups']['product_group']['product_path'] = '.'\n",
    "config['runconfig']['groups']['product_group']['scratch_path'] = str(data_dir_path/'scratch_dir')\n",
    "config['runconfig']['groups']['product_group']['product_id'] = f'OPERA_L2_RTC-S1_{scene}'\n",
    "config['runconfig']['groups']['processing']['polarization'] = 'dual-pol'"
   ]
  },
  {
   "cell_type": "code",
   "execution_count": null,
   "id": "07cb31d6-30cd-45e4-a40f-8e1df66e1696",
   "metadata": {},
   "outputs": [],
   "source": [
    "with open(rtc_config_path, 'w') as f:\n",
    "    yaml.dump(config, f)"
   ]
  },
  {
   "cell_type": "markdown",
   "id": "6de5f2f7-8e46-4ebd-aec8-cd8e79d3dd1a",
   "metadata": {},
   "source": [
    "## Run rtc_s1_single_job.py\n",
    "\n",
    "- Open rtc_s1.yaml and adjust any parameters you like"
   ]
  },
  {
   "cell_type": "code",
   "execution_count": null,
   "id": "13b9d2c8-9ee1-4a15-bc06-9fa36d5e7d9d",
   "metadata": {},
   "outputs": [],
   "source": [
    "!rtc_s1_single_job.py $rtc_config_path"
   ]
  },
  {
   "cell_type": "code",
   "execution_count": null,
   "id": "aaad27af-057e-474e-9386-06e95d83c449",
   "metadata": {},
   "outputs": [],
   "source": []
  }
 ],
 "metadata": {
  "kernelspec": {
   "display_name": "isce3_rtc [conda env:.local-isce3_rtc]",
   "language": "python",
   "name": "conda-env-.local-isce3_rtc-py"
  },
  "language_info": {
   "codemirror_mode": {
    "name": "ipython",
    "version": 3
   },
   "file_extension": ".py",
   "mimetype": "text/x-python",
   "name": "python",
   "nbconvert_exporter": "python",
   "pygments_lexer": "ipython3",
   "version": "3.11.0"
  }
 },
 "nbformat": 4,
 "nbformat_minor": 5
}
